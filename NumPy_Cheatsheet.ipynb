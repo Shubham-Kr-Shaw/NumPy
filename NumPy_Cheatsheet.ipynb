{
 "cells": [
  {
   "cell_type": "markdown",
   "id": "informed-array",
   "metadata": {},
   "source": [
    "# NumPy\n",
    "\n",
    "### What is NumPy?\n",
    "\n",
    "Numpy is a library for multidimensional Array.\n",
    "It can be used to store all types of data in 1D array, 2D array, 3D array and so on..\n",
    "\n",
    "### Why NumPy?\n",
    "\n",
    "- In simple words we can say It is fast.\n",
    "- As NumPy uses Fixed type and it have to store the object value that's it which only limits to 1 to 4 bytes.\n",
    "- List have to deal with much more data such as size(4 byte), Reference Count(8 byte), Object Type(8 Byte) & object value(8 Byte).\n",
    "\n",
    "## Why is NumPy Fast?\n",
    "\n",
    "Vectorization describes the absence of any explicit looping, indexing, etc., in the code - these things are taking place, of course, just “behind the scenes” in optimized, pre-compiled C code. Vectorized code has many advantages, among which are:\n",
    "\n",
    "- vectorized code is more concise and easier to read\n",
    "- fewer lines of code generally means fewer bugs\n",
    "- the code more closely resembles standard mathematical notation (making it easier, typically, to correctly code mathematical constructs)\n",
    "- vectorization results in more “Pythonic” code. Without vectorization, our code would be littered with inefficient and difficult to read `for` loops."
   ]
  },
  {
   "cell_type": "markdown",
   "id": "piano-collect",
   "metadata": {},
   "source": [
    "### Importing NumPy"
   ]
  },
  {
   "cell_type": "code",
   "execution_count": 1,
   "id": "female-beast",
   "metadata": {},
   "outputs": [],
   "source": [
    "import numpy as np"
   ]
  },
  {
   "cell_type": "markdown",
   "id": "comprehensive-annex",
   "metadata": {},
   "source": [
    "### Basics"
   ]
  },
  {
   "cell_type": "code",
   "execution_count": 2,
   "id": "resident-cuisine",
   "metadata": {},
   "outputs": [
    {
     "name": "stdout",
     "output_type": "stream",
     "text": [
      "(3,)\n"
     ]
    }
   ],
   "source": [
    "a = np.array([1,2,3])\n",
    "a\n",
    "print(a.shape)"
   ]
  },
  {
   "cell_type": "code",
   "execution_count": 3,
   "id": "warming-offense",
   "metadata": {},
   "outputs": [
    {
     "data": {
      "text/plain": [
       "dtype('int64')"
      ]
     },
     "execution_count": 3,
     "metadata": {},
     "output_type": "execute_result"
    }
   ],
   "source": [
    "a.dtype"
   ]
  },
  {
   "cell_type": "code",
   "execution_count": 4,
   "id": "fatty-albert",
   "metadata": {},
   "outputs": [
    {
     "data": {
      "text/plain": [
       "dtype('int8')"
      ]
     },
     "execution_count": 4,
     "metadata": {},
     "output_type": "execute_result"
    }
   ],
   "source": [
    "a.dtype = 'int8'\n",
    "a.dtype"
   ]
  },
  {
   "cell_type": "code",
   "execution_count": 5,
   "id": "labeled-disclaimer",
   "metadata": {},
   "outputs": [
    {
     "data": {
      "text/plain": [
       "array([[1, 2, 3],\n",
       "       [4, 5, 6]])"
      ]
     },
     "execution_count": 5,
     "metadata": {},
     "output_type": "execute_result"
    }
   ],
   "source": [
    "b = np.array([[1,2,3],[4,5,6]])\n",
    "b"
   ]
  },
  {
   "cell_type": "code",
   "execution_count": 6,
   "id": "antique-bachelor",
   "metadata": {},
   "outputs": [
    {
     "name": "stdout",
     "output_type": "stream",
     "text": [
      "1\n",
      "2\n"
     ]
    }
   ],
   "source": [
    "dm1 = a.ndim\n",
    "dm2 = b.ndim\n",
    "print(dm1)\n",
    "print(dm2)"
   ]
  },
  {
   "cell_type": "code",
   "execution_count": 7,
   "id": "reduced-communications",
   "metadata": {},
   "outputs": [
    {
     "name": "stdout",
     "output_type": "stream",
     "text": [
      "(24,)\n",
      "(2, 3)\n"
     ]
    }
   ],
   "source": [
    "sh1 = a.shape\n",
    "sh2 = b.shape\n",
    "print(sh1)\n",
    "print(sh2)"
   ]
  },
  {
   "cell_type": "code",
   "execution_count": 8,
   "id": "animal-shakespeare",
   "metadata": {},
   "outputs": [
    {
     "data": {
      "text/plain": [
       "(24,)"
      ]
     },
     "execution_count": 8,
     "metadata": {},
     "output_type": "execute_result"
    }
   ],
   "source": [
    "a.shape"
   ]
  },
  {
   "cell_type": "code",
   "execution_count": 9,
   "id": "olympic-retreat",
   "metadata": {},
   "outputs": [
    {
     "data": {
      "text/plain": [
       "dtype('int8')"
      ]
     },
     "execution_count": 9,
     "metadata": {},
     "output_type": "execute_result"
    }
   ],
   "source": [
    "a.dtype"
   ]
  },
  {
   "cell_type": "code",
   "execution_count": 10,
   "id": "innocent-cylinder",
   "metadata": {},
   "outputs": [
    {
     "data": {
      "text/plain": [
       "1"
      ]
     },
     "execution_count": 10,
     "metadata": {},
     "output_type": "execute_result"
    }
   ],
   "source": [
    "a.itemsize"
   ]
  },
  {
   "cell_type": "code",
   "execution_count": 11,
   "id": "sporting-finnish",
   "metadata": {},
   "outputs": [
    {
     "data": {
      "text/plain": [
       "24"
      ]
     },
     "execution_count": 11,
     "metadata": {},
     "output_type": "execute_result"
    }
   ],
   "source": [
    "a.nbytes"
   ]
  },
  {
   "cell_type": "code",
   "execution_count": 12,
   "id": "usual-yellow",
   "metadata": {},
   "outputs": [
    {
     "data": {
      "text/plain": [
       "24"
      ]
     },
     "execution_count": 12,
     "metadata": {},
     "output_type": "execute_result"
    }
   ],
   "source": [
    "a.size"
   ]
  },
  {
   "cell_type": "markdown",
   "id": "satisfied-appearance",
   "metadata": {},
   "source": [
    "Accessing/Changing specific elements, rows, columns, etc."
   ]
  },
  {
   "cell_type": "code",
   "execution_count": 13,
   "id": "touched-tobacco",
   "metadata": {},
   "outputs": [
    {
     "data": {
      "text/plain": [
       "array([[ 1,  2,  3,  4,  5,  6],\n",
       "       [ 7,  8,  9, 10, 11, 12]])"
      ]
     },
     "execution_count": 13,
     "metadata": {},
     "output_type": "execute_result"
    }
   ],
   "source": [
    "c = np.array([[1,2,3,4,5,6],[7,8,9,10,11,12]])\n",
    "c"
   ]
  },
  {
   "cell_type": "code",
   "execution_count": 14,
   "id": "british-concern",
   "metadata": {},
   "outputs": [
    {
     "data": {
      "text/plain": [
       "11"
      ]
     },
     "execution_count": 14,
     "metadata": {},
     "output_type": "execute_result"
    }
   ],
   "source": [
    "# Getting a specific elements[r,c]\n",
    "c[1,4]"
   ]
  },
  {
   "cell_type": "code",
   "execution_count": 15,
   "id": "conscious-ghost",
   "metadata": {},
   "outputs": [
    {
     "data": {
      "text/plain": [
       "array([1, 2, 3, 4, 5, 6])"
      ]
     },
     "execution_count": 15,
     "metadata": {},
     "output_type": "execute_result"
    }
   ],
   "source": [
    "# Getting a specific row\n",
    "c[0,:]"
   ]
  },
  {
   "cell_type": "code",
   "execution_count": 16,
   "id": "smoking-carter",
   "metadata": {},
   "outputs": [
    {
     "data": {
      "text/plain": [
       "array([ 7,  8,  9, 10, 11, 12])"
      ]
     },
     "execution_count": 16,
     "metadata": {},
     "output_type": "execute_result"
    }
   ],
   "source": [
    "c[1,:]"
   ]
  },
  {
   "cell_type": "code",
   "execution_count": 17,
   "id": "stainless-maine",
   "metadata": {},
   "outputs": [
    {
     "data": {
      "text/plain": [
       "array([1, 7])"
      ]
     },
     "execution_count": 17,
     "metadata": {},
     "output_type": "execute_result"
    }
   ],
   "source": [
    "# Getting a specific column\n",
    "c[:,0]"
   ]
  },
  {
   "cell_type": "code",
   "execution_count": 18,
   "id": "organized-herald",
   "metadata": {},
   "outputs": [
    {
     "data": {
      "text/plain": [
       "array([1, 3, 5])"
      ]
     },
     "execution_count": 18,
     "metadata": {},
     "output_type": "execute_result"
    }
   ],
   "source": [
    "# We can also slice and step the array as we do in list, by [start index : end index : steping gap]\n",
    "c[0,0:5:2]"
   ]
  },
  {
   "cell_type": "code",
   "execution_count": 19,
   "id": "potential-preparation",
   "metadata": {},
   "outputs": [
    {
     "data": {
      "text/plain": [
       "array([[ 1,  2,  3,  4,  5,  6],\n",
       "       [ 7,  8,  9, 10, 11, 12]])"
      ]
     },
     "execution_count": 19,
     "metadata": {},
     "output_type": "execute_result"
    }
   ],
   "source": [
    "c"
   ]
  },
  {
   "cell_type": "code",
   "execution_count": 20,
   "id": "cardiac-opportunity",
   "metadata": {},
   "outputs": [
    {
     "data": {
      "text/plain": [
       "12"
      ]
     },
     "execution_count": 20,
     "metadata": {},
     "output_type": "execute_result"
    }
   ],
   "source": [
    "c[1,5]"
   ]
  },
  {
   "cell_type": "code",
   "execution_count": 21,
   "id": "mounted-capacity",
   "metadata": {},
   "outputs": [
    {
     "data": {
      "text/plain": [
       "array([1, 2, 3, 4, 5, 6])"
      ]
     },
     "execution_count": 21,
     "metadata": {},
     "output_type": "execute_result"
    }
   ],
   "source": [
    "c[0]"
   ]
  },
  {
   "cell_type": "markdown",
   "id": "protective-study",
   "metadata": {},
   "source": [
    "### Making 3d Array"
   ]
  },
  {
   "cell_type": "code",
   "execution_count": 22,
   "id": "swiss-fashion",
   "metadata": {},
   "outputs": [
    {
     "data": {
      "text/plain": [
       "array([[[1, 2],\n",
       "        [3, 4]],\n",
       "\n",
       "       [[5, 6],\n",
       "        [7, 8]]])"
      ]
     },
     "execution_count": 22,
     "metadata": {},
     "output_type": "execute_result"
    }
   ],
   "source": [
    "d = np.array([[[1,2],[3,4]],[[5,6],[7,8]]])\n",
    "d"
   ]
  },
  {
   "cell_type": "code",
   "execution_count": 23,
   "id": "hindu-technology",
   "metadata": {},
   "outputs": [
    {
     "data": {
      "text/plain": [
       "(2, 2, 2)"
      ]
     },
     "execution_count": 23,
     "metadata": {},
     "output_type": "execute_result"
    }
   ],
   "source": [
    "d.shape"
   ]
  },
  {
   "cell_type": "code",
   "execution_count": 24,
   "id": "second-journey",
   "metadata": {},
   "outputs": [
    {
     "data": {
      "text/plain": [
       "3"
      ]
     },
     "execution_count": 24,
     "metadata": {},
     "output_type": "execute_result"
    }
   ],
   "source": [
    "d.ndim"
   ]
  },
  {
   "cell_type": "code",
   "execution_count": 25,
   "id": "occupational-refund",
   "metadata": {},
   "outputs": [
    {
     "data": {
      "text/plain": [
       "8"
      ]
     },
     "execution_count": 25,
     "metadata": {},
     "output_type": "execute_result"
    }
   ],
   "source": [
    "d.size"
   ]
  },
  {
   "cell_type": "code",
   "execution_count": 26,
   "id": "built-saskatchewan",
   "metadata": {},
   "outputs": [
    {
     "data": {
      "text/plain": [
       "64"
      ]
     },
     "execution_count": 26,
     "metadata": {},
     "output_type": "execute_result"
    }
   ],
   "source": [
    "d.nbytes"
   ]
  },
  {
   "cell_type": "code",
   "execution_count": 27,
   "id": "light-flush",
   "metadata": {},
   "outputs": [
    {
     "data": {
      "text/plain": [
       "8"
      ]
     },
     "execution_count": 27,
     "metadata": {},
     "output_type": "execute_result"
    }
   ],
   "source": [
    "d.itemsize"
   ]
  },
  {
   "cell_type": "markdown",
   "id": "noted-brain",
   "metadata": {},
   "source": [
    "### Trick to acces an specific element of multidimentional array is to start from out and then go inside."
   ]
  },
  {
   "cell_type": "code",
   "execution_count": 28,
   "id": "atlantic-electricity",
   "metadata": {},
   "outputs": [
    {
     "data": {
      "text/plain": [
       "7"
      ]
     },
     "execution_count": 28,
     "metadata": {},
     "output_type": "execute_result"
    }
   ],
   "source": [
    "d[1,1,0]"
   ]
  },
  {
   "cell_type": "code",
   "execution_count": 29,
   "id": "plain-microphone",
   "metadata": {},
   "outputs": [],
   "source": [
    "# The elements can be replaced by using their specific index or using the axis.\n",
    "d[:,1,:] = [[9,9],[8,8]]"
   ]
  },
  {
   "cell_type": "code",
   "execution_count": 30,
   "id": "constant-harvey",
   "metadata": {},
   "outputs": [
    {
     "data": {
      "text/plain": [
       "array([[[1, 2],\n",
       "        [9, 9]],\n",
       "\n",
       "       [[5, 6],\n",
       "        [8, 8]]])"
      ]
     },
     "execution_count": 30,
     "metadata": {},
     "output_type": "execute_result"
    }
   ],
   "source": [
    "d"
   ]
  },
  {
   "attachments": {
    "image-2.png": {
     "image/png": "[encoded data removed]"
    }
   },
   "cell_type": "markdown",
   "id": "treated-apollo",
   "metadata": {},
   "source": [
    "# Axis in NumPy\n",
    "![image-2.png](attachment:image-2.png)"
   ]
  },
  {
   "cell_type": "code",
   "execution_count": 31,
   "id": "distinguished-northwest",
   "metadata": {},
   "outputs": [
    {
     "data": {
      "text/plain": [
       "array([[ 1,  2,  3,  4,  5,  6],\n",
       "       [ 7,  8,  9, 10, 11, 12]])"
      ]
     },
     "execution_count": 31,
     "metadata": {},
     "output_type": "execute_result"
    }
   ],
   "source": [
    "c"
   ]
  },
  {
   "cell_type": "code",
   "execution_count": 32,
   "id": "august-guyana",
   "metadata": {},
   "outputs": [
    {
     "data": {
      "text/plain": [
       "array([ 8, 10, 12, 14, 16, 18])"
      ]
     },
     "execution_count": 32,
     "metadata": {},
     "output_type": "execute_result"
    }
   ],
   "source": [
    "np.sum(c,axis = 0)"
   ]
  },
  {
   "cell_type": "code",
   "execution_count": 33,
   "id": "potential-solid",
   "metadata": {},
   "outputs": [
    {
     "data": {
      "text/plain": [
       "array([21, 57])"
      ]
     },
     "execution_count": 33,
     "metadata": {},
     "output_type": "execute_result"
    }
   ],
   "source": [
    "np.sum(c,axis = 1)"
   ]
  },
  {
   "cell_type": "code",
   "execution_count": 34,
   "id": "linear-spread",
   "metadata": {},
   "outputs": [
    {
     "data": {
      "text/plain": [
       "array([[1, 2, 3, 4, 5, 6]])"
      ]
     },
     "execution_count": 34,
     "metadata": {},
     "output_type": "execute_result"
    }
   ],
   "source": [
    "c[0:1]"
   ]
  },
  {
   "cell_type": "code",
   "execution_count": 35,
   "id": "entitled-candle",
   "metadata": {},
   "outputs": [
    {
     "data": {
      "text/plain": [
       "array([], shape=(0, 6), dtype=int64)"
      ]
     },
     "execution_count": 35,
     "metadata": {},
     "output_type": "execute_result"
    }
   ],
   "source": [
    "c[:0]"
   ]
  },
  {
   "cell_type": "markdown",
   "id": "hearing-volunteer",
   "metadata": {},
   "source": [
    "### As in 1d array there is only 1 dimention so the operation using axis will always be on *0th* axis because there is not any existance of 1st or 2nd axis."
   ]
  },
  {
   "cell_type": "code",
   "execution_count": 36,
   "id": "permanent-cathedral",
   "metadata": {},
   "outputs": [],
   "source": [
    "oneD_array1 = np.array([1,2,3])"
   ]
  },
  {
   "cell_type": "code",
   "execution_count": 37,
   "id": "public-worcester",
   "metadata": {},
   "outputs": [],
   "source": [
    "oneD_array2 = np.array([4,5,6])"
   ]
  },
  {
   "cell_type": "code",
   "execution_count": 38,
   "id": "damaged-carnival",
   "metadata": {},
   "outputs": [
    {
     "data": {
      "text/plain": [
       "6"
      ]
     },
     "execution_count": 38,
     "metadata": {},
     "output_type": "execute_result"
    }
   ],
   "source": [
    "np.sum(oneD_array1,axis = 0)"
   ]
  },
  {
   "cell_type": "code",
   "execution_count": 39,
   "id": "upset-policy",
   "metadata": {},
   "outputs": [
    {
     "data": {
      "text/plain": [
       "array([1, 2, 3, 4, 5, 6])"
      ]
     },
     "execution_count": 39,
     "metadata": {},
     "output_type": "execute_result"
    }
   ],
   "source": [
    "np.concatenate((oneD_array1,oneD_array2),axis = 0)"
   ]
  },
  {
   "cell_type": "markdown",
   "id": "serial-possibility",
   "metadata": {},
   "source": [
    "### Initilizing different types of arrays"
   ]
  },
  {
   "cell_type": "code",
   "execution_count": 40,
   "id": "agricultural-protein",
   "metadata": {},
   "outputs": [
    {
     "data": {
      "text/plain": [
       "array([[[0., 0., 0.],\n",
       "        [0., 0., 0.],\n",
       "        [0., 0., 0.]],\n",
       "\n",
       "       [[0., 0., 0.],\n",
       "        [0., 0., 0.],\n",
       "        [0., 0., 0.]],\n",
       "\n",
       "       [[0., 0., 0.],\n",
       "        [0., 0., 0.],\n",
       "        [0., 0., 0.]]])"
      ]
     },
     "execution_count": 40,
     "metadata": {},
     "output_type": "execute_result"
    }
   ],
   "source": [
    "# All zero matrix\n",
    "e = np.zeros((3,3,3))\n",
    "e"
   ]
  },
  {
   "cell_type": "code",
   "execution_count": 41,
   "id": "informative-happening",
   "metadata": {},
   "outputs": [
    {
     "data": {
      "text/plain": [
       "array([[[1, 1, 1],\n",
       "        [1, 1, 1],\n",
       "        [1, 1, 1]],\n",
       "\n",
       "       [[1, 1, 1],\n",
       "        [1, 1, 1],\n",
       "        [1, 1, 1]],\n",
       "\n",
       "       [[1, 1, 1],\n",
       "        [1, 1, 1],\n",
       "        [1, 1, 1]]], dtype=int32)"
      ]
     },
     "execution_count": 41,
     "metadata": {},
     "output_type": "execute_result"
    }
   ],
   "source": [
    "# All one matrix\n",
    "f = np.ones((3,3,3), dtype = 'int32')\n",
    "f"
   ]
  },
  {
   "cell_type": "code",
   "execution_count": 42,
   "id": "cultural-amateur",
   "metadata": {},
   "outputs": [
    {
     "data": {
      "text/plain": [
       "array([[[5, 5, 5],\n",
       "        [5, 5, 5],\n",
       "        [5, 5, 5]],\n",
       "\n",
       "       [[5, 5, 5],\n",
       "        [5, 5, 5],\n",
       "        [5, 5, 5]],\n",
       "\n",
       "       [[5, 5, 5],\n",
       "        [5, 5, 5],\n",
       "        [5, 5, 5]]])"
      ]
     },
     "execution_count": 42,
     "metadata": {},
     "output_type": "execute_result"
    }
   ],
   "source": [
    "# For all other numbers it will not work in the similar manner.\n",
    "#np.twos((3,3,3)) Will give error, We need to use full as function and the number it self as an argument.\n",
    "g = np.full((3,3,3),5)\n",
    "g\n"
   ]
  },
  {
   "cell_type": "code",
   "execution_count": 43,
   "id": "other-registrar",
   "metadata": {},
   "outputs": [
    {
     "data": {
      "text/plain": [
       "array([[[4., 4., 4.],\n",
       "        [4., 4., 4.],\n",
       "        [4., 4., 4.]],\n",
       "\n",
       "       [[4., 4., 4.],\n",
       "        [4., 4., 4.],\n",
       "        [4., 4., 4.]],\n",
       "\n",
       "       [[4., 4., 4.],\n",
       "        [4., 4., 4.],\n",
       "        [4., 4., 4.]]], dtype=float32)"
      ]
     },
     "execution_count": 43,
     "metadata": {},
     "output_type": "execute_result"
    }
   ],
   "source": [
    "g = np.full((3,3,3),4, dtype='float32')\n",
    "g"
   ]
  },
  {
   "cell_type": "code",
   "execution_count": 44,
   "id": "unauthorized-documentation",
   "metadata": {},
   "outputs": [
    {
     "data": {
      "text/plain": [
       "array([[[10, 10, 10],\n",
       "        [10, 10, 10],\n",
       "        [10, 10, 10]],\n",
       "\n",
       "       [[10, 10, 10],\n",
       "        [10, 10, 10],\n",
       "        [10, 10, 10]],\n",
       "\n",
       "       [[10, 10, 10],\n",
       "        [10, 10, 10],\n",
       "        [10, 10, 10]]], dtype=int32)"
      ]
     },
     "execution_count": 44,
     "metadata": {},
     "output_type": "execute_result"
    }
   ],
   "source": [
    "# full_like is used to copy the shape of the array which is passed as the argument.\n",
    "np.full_like(g, 10, dtype = 'int32')"
   ]
  },
  {
   "cell_type": "code",
   "execution_count": 45,
   "id": "circular-burton",
   "metadata": {},
   "outputs": [
    {
     "data": {
      "text/plain": [
       "array([[0.19898041, 0.60913323, 0.82261673],\n",
       "       [0.29358314, 0.39014226, 0.56582717],\n",
       "       [0.30422776, 0.44985799, 0.55839282]])"
      ]
     },
     "execution_count": 45,
     "metadata": {},
     "output_type": "execute_result"
    }
   ],
   "source": [
    "# Now creating an array filled with random nos.\n",
    "h = np.random.rand(3,3)\n",
    "h"
   ]
  },
  {
   "cell_type": "code",
   "execution_count": 46,
   "id": "finite-collaboration",
   "metadata": {},
   "outputs": [
    {
     "data": {
      "text/plain": [
       "array([[2, 0, 0],\n",
       "       [1, 0, 1],\n",
       "       [2, 0, 0]])"
      ]
     },
     "execution_count": 46,
     "metadata": {},
     "output_type": "execute_result"
    }
   ],
   "source": [
    "# Now with random intiger nos.\n",
    "i = np.random.randint(0,3, size = (3,3))\n",
    "i"
   ]
  },
  {
   "cell_type": "code",
   "execution_count": 47,
   "id": "alternate-candidate",
   "metadata": {},
   "outputs": [
    {
     "data": {
      "text/plain": [
       "array([[-3, -4, -8],\n",
       "       [-9, -4, -5],\n",
       "       [-5, -7, -8]])"
      ]
     },
     "execution_count": 47,
     "metadata": {},
     "output_type": "execute_result"
    }
   ],
   "source": [
    "# Now with random -ve  nos.\n",
    "\n",
    "i = np.random.randint(-9,-1, size = (3,3))\n",
    "i"
   ]
  },
  {
   "cell_type": "code",
   "execution_count": 48,
   "id": "environmental-filing",
   "metadata": {},
   "outputs": [
    {
     "data": {
      "text/plain": [
       "array([[1., 0., 0., 0., 0.],\n",
       "       [0., 1., 0., 0., 0.],\n",
       "       [0., 0., 1., 0., 0.],\n",
       "       [0., 0., 0., 1., 0.],\n",
       "       [0., 0., 0., 0., 1.]])"
      ]
     },
     "execution_count": 48,
     "metadata": {},
     "output_type": "execute_result"
    }
   ],
   "source": [
    "# Creating an identity matrix\n",
    "np.identity(5)"
   ]
  },
  {
   "cell_type": "code",
   "execution_count": 49,
   "id": "collected-excess",
   "metadata": {},
   "outputs": [
    {
     "data": {
      "text/plain": [
       "array([[1, 2, 3],\n",
       "       [1, 2, 3],\n",
       "       [1, 2, 3]])"
      ]
     },
     "execution_count": 49,
     "metadata": {},
     "output_type": "execute_result"
    }
   ],
   "source": [
    "# Repeating an array\n",
    "arr = np.array([[1,2,3]])\n",
    "j = np.repeat(arr,3,axis = 0)\n",
    "j"
   ]
  },
  {
   "cell_type": "code",
   "execution_count": 50,
   "id": "forty-percentage",
   "metadata": {},
   "outputs": [
    {
     "name": "stdout",
     "output_type": "stream",
     "text": [
      "[[1. 1. 1. 1. 1.]\n",
      " [1. 1. 1. 1. 1.]\n",
      " [1. 1. 1. 1. 1.]\n",
      " [1. 1. 1. 1. 1.]\n",
      " [1. 1. 1. 1. 1.]]\n",
      "[[0. 0. 0.]\n",
      " [0. 9. 0.]\n",
      " [0. 0. 0.]]\n",
      "[[1. 1. 1. 1. 1.]\n",
      " [1. 0. 0. 0. 1.]\n",
      " [1. 0. 9. 0. 1.]\n",
      " [1. 0. 0. 0. 1.]\n",
      " [1. 1. 1. 1. 1.]]\n"
     ]
    }
   ],
   "source": [
    "output = np.ones((5,5))\n",
    "print(output)\n",
    "\n",
    "z = np.zeros((3,3))\n",
    "z[1,1] = 9\n",
    "print(z)\n",
    "\n",
    "output[1:-1,1:-1] = z\n",
    "print(output)"
   ]
  },
  {
   "cell_type": "markdown",
   "id": "alike-chair",
   "metadata": {},
   "source": [
    "### Copying a NumPy arrar is not as noraml as copying in python."
   ]
  },
  {
   "cell_type": "code",
   "execution_count": 51,
   "id": "tracked-pressure",
   "metadata": {},
   "outputs": [
    {
     "name": "stdout",
     "output_type": "stream",
     "text": [
      "10\n",
      "5\n"
     ]
    }
   ],
   "source": [
    "# In this example the x1 is having 10 as its value, then in 2nd step \n",
    "# x2 is also pointing to the same reference but as soon as we changed \n",
    "# the value of the x2 a new object is created and both x1 & x2 are \n",
    "# having their own values, But arrays in NumPy behaves in a \n",
    "# different manner which we will disciss later.list\n",
    "\n",
    "x1 = 10\n",
    "x2 = x1\n",
    "x2 = 5\n",
    "print(x1)\n",
    "print(x2)"
   ]
  },
  {
   "cell_type": "code",
   "execution_count": 52,
   "id": "comfortable-copying",
   "metadata": {},
   "outputs": [
    {
     "data": {
      "text/plain": [
       "[1, 2, 3]"
      ]
     },
     "execution_count": 52,
     "metadata": {},
     "output_type": "execute_result"
    }
   ],
   "source": [
    "ls1 = [1,2,3]\n",
    "ls1"
   ]
  },
  {
   "cell_type": "code",
   "execution_count": 53,
   "id": "current-distinction",
   "metadata": {},
   "outputs": [
    {
     "name": "stdout",
     "output_type": "stream",
     "text": [
      "[[0 2 3]\n",
      " [4 5 6]]\n",
      "[[0 2 3]\n",
      " [4 5 6]]\n"
     ]
    }
   ],
   "source": [
    "# In this cell you can see that the normal copying as it worked in the previous cell does not works.\n",
    "# Here both the variables are pointing to the same object.\n",
    "# And chang in one is reflected in the other as well.\n",
    "# So in NumPy we need to use .copy() method.\n",
    "k = np.array([[1,2,3],[4,5,6]])\n",
    "l = k\n",
    "l[0,0] = 0\n",
    "print(k)\n",
    "print(l)"
   ]
  },
  {
   "cell_type": "code",
   "execution_count": 70,
   "id": "quick-plaza",
   "metadata": {},
   "outputs": [
    {
     "name": "stdout",
     "output_type": "stream",
     "text": [
      "[[1 2 3]\n",
      " [4 5 6]]\n",
      "----------\n",
      "[[0 2 3]\n",
      " [4 5 6]]\n"
     ]
    }
   ],
   "source": [
    "k = np.array([[1,2,3],[4,5,6]])\n",
    "l = k.copy()\n",
    "l[0,0] = 0\n",
    "print(k)\n",
    "print(\"----------\")\n",
    "print(l)"
   ]
  },
  {
   "cell_type": "markdown",
   "id": "historic-toronto",
   "metadata": {},
   "source": [
    "# Mathematical functions with automatic domain (`numpy.emath`)\n",
    "\n",
    "Note\n",
    "\n",
    "`numpy.emath` is a preferred alias for [`numpy.lib.scimath`](https://numpy.org/doc/stable/reference/routines.emath.html#module-numpy.lib.scimath), available after [`numpy`](https://numpy.org/doc/stable/reference/index.html#module-numpy) is imported.\n",
    "\n",
    "\n",
    "\n",
    "Wrapper functions to more user-friendly calling of certain math functions whose output data-type is different than the input data-type in certain domains of the input.\n",
    "\n",
    "For example, for functions like [`log`](https://numpy.org/doc/stable/reference/generated/numpy.lib.scimath.log.html#numpy.lib.scimath.log) with branch cuts, the versions in this module provide the mathematically valid answers in the complex plane:\n",
    "\n",
    "```\n",
    ">>> import math\n",
    ">>> from numpy.lib import scimath\n",
    ">>> scimath.log(-math.exp(1)) == (1+1j*math.pi)\n",
    "True\n",
    "```\n",
    "\n",
    "Similarly, [`sqrt`](https://numpy.org/doc/stable/reference/generated/numpy.lib.scimath.sqrt.html#numpy.lib.scimath.sqrt), other base logarithms, [`power`](https://numpy.org/doc/stable/reference/generated/numpy.lib.scimath.power.html#numpy.lib.scimath.power) and trig functions are correctly handled. See their respective docstrings for specific examples.\n",
    "\n",
    "## Functions\n",
    "\n",
    "| [`sqrt`](https://numpy.org/doc/stable/reference/generated/numpy.lib.scimath.sqrt.html#numpy.lib.scimath.sqrt)(x) | Compute the square root of x.                  |\n",
    "| ------------------------------------------------------------ | ---------------------------------------------- |\n",
    "| [`log`](https://numpy.org/doc/stable/reference/generated/numpy.lib.scimath.log.html#numpy.lib.scimath.log)(x) | Compute the natural logarithm of *x*.          |\n",
    "| [`log2`](https://numpy.org/doc/stable/reference/generated/numpy.lib.scimath.log2.html#numpy.lib.scimath.log2)(x) | Compute the logarithm base 2 of *x*.           |\n",
    "| [`logn`](https://numpy.org/doc/stable/reference/generated/numpy.lib.scimath.logn.html#numpy.lib.scimath.logn)(n, x) | Take log base n of x.                          |\n",
    "| [`log10`](https://numpy.org/doc/stable/reference/generated/numpy.lib.scimath.log10.html#numpy.lib.scimath.log10)(x) | Compute the logarithm base 10 of *x*.          |\n",
    "| [`power`](https://numpy.org/doc/stable/reference/generated/numpy.lib.scimath.power.html#numpy.lib.scimath.power)(x, p) | Return x to the power p, (x**p).               |\n",
    "| [`arccos`](https://numpy.org/doc/stable/reference/generated/numpy.lib.scimath.arccos.html#numpy.lib.scimath.arccos)(x) | Compute the inverse cosine of x.               |\n",
    "| [`arcsin`](https://numpy.org/doc/stable/reference/generated/numpy.lib.scimath.arcsin.html#numpy.lib.scimath.arcsin)(x) | Compute the inverse sine of x.                 |\n",
    "| [`arctanh`](https://numpy.org/doc/stable/reference/generated/numpy.lib.scimath.arctanh.html#numpy.lib.scimath.arctanh)(x) | Compute the inverse hyperbolic tangent of *x*. |\n"
   ]
  },
  {
   "cell_type": "markdown",
   "id": "medical-timothy",
   "metadata": {},
   "source": [
    "# Mathematical functions\n",
    "\n",
    "## Trigonometric functions\n",
    "\n",
    "| [`sin`](https://numpy.org/doc/stable/reference/generated/numpy.sin.html#numpy.sin)(x, /[, out, where, casting, order, …]) | Trigonometric sine, element-wise.                            |\n",
    "| ------------------------------------------------------------ | ------------------------------------------------------------ |\n",
    "| [`cos`](https://numpy.org/doc/stable/reference/generated/numpy.cos.html#numpy.cos)(x, /[, out, where, casting, order, …]) | Cosine element-wise.                                         |\n",
    "| [`tan`](https://numpy.org/doc/stable/reference/generated/numpy.tan.html#numpy.tan)(x, /[, out, where, casting, order, …]) | Compute tangent element-wise.                                |\n",
    "| [`arcsin`](https://numpy.org/doc/stable/reference/generated/numpy.arcsin.html#numpy.arcsin)(x, /[, out, where, casting, order, …]) | Inverse sine, element-wise.                                  |\n",
    "| [`arccos`](https://numpy.org/doc/stable/reference/generated/numpy.arccos.html#numpy.arccos)(x, /[, out, where, casting, order, …]) | Trigonometric inverse cosine, element-wise.                  |\n",
    "| [`arctan`](https://numpy.org/doc/stable/reference/generated/numpy.arctan.html#numpy.arctan)(x, /[, out, where, casting, order, …]) | Trigonometric inverse tangent, element-wise.                 |\n",
    "| [`hypot`](https://numpy.org/doc/stable/reference/generated/numpy.hypot.html#numpy.hypot)(x1, x2, /[, out, where, casting, …]) | Given the “legs” of a right triangle, return its hypotenuse. |\n",
    "| [`arctan2`](https://numpy.org/doc/stable/reference/generated/numpy.arctan2.html#numpy.arctan2)(x1, x2, /[, out, where, casting, …]) | Element-wise arc tangent of `x1/x2` choosing the quadrant correctly. |\n",
    "| [`degrees`](https://numpy.org/doc/stable/reference/generated/numpy.degrees.html#numpy.degrees)(x, /[, out, where, casting, order, …]) | Convert angles from radians to degrees.                      |\n",
    "| [`radians`](https://numpy.org/doc/stable/reference/generated/numpy.radians.html#numpy.radians)(x, /[, out, where, casting, order, …]) | Convert angles from degrees to radians.                      |\n",
    "| [`unwrap`](https://numpy.org/doc/stable/reference/generated/numpy.unwrap.html#numpy.unwrap)(p[, discont, axis]) | Unwrap by changing deltas between values to 2*pi complement. |\n",
    "| [`deg2rad`](https://numpy.org/doc/stable/reference/generated/numpy.deg2rad.html#numpy.deg2rad)(x, /[, out, where, casting, order, …]) | Convert angles from degrees to radians.                      |\n",
    "| [`rad2deg`](https://numpy.org/doc/stable/reference/generated/numpy.rad2deg.html#numpy.rad2deg)(x, /[, out, where, casting, order, …]) | Convert angles from radians to degrees.                      |\n",
    "\n",
    "## Hyperbolic functions\n",
    "\n",
    "| [`sinh`](https://numpy.org/doc/stable/reference/generated/numpy.sinh.html#numpy.sinh)(x, /[, out, where, casting, order, …]) | Hyperbolic sine, element-wise.           |\n",
    "| ------------------------------------------------------------ | ---------------------------------------- |\n",
    "| [`cosh`](https://numpy.org/doc/stable/reference/generated/numpy.cosh.html#numpy.cosh)(x, /[, out, where, casting, order, …]) | Hyperbolic cosine, element-wise.         |\n",
    "| [`tanh`](https://numpy.org/doc/stable/reference/generated/numpy.tanh.html#numpy.tanh)(x, /[, out, where, casting, order, …]) | Compute hyperbolic tangent element-wise. |\n",
    "| [`arcsinh`](https://numpy.org/doc/stable/reference/generated/numpy.arcsinh.html#numpy.arcsinh)(x, /[, out, where, casting, order, …]) | Inverse hyperbolic sine element-wise.    |\n",
    "| [`arccosh`](https://numpy.org/doc/stable/reference/generated/numpy.arccosh.html#numpy.arccosh)(x, /[, out, where, casting, order, …]) | Inverse hyperbolic cosine, element-wise. |\n",
    "| [`arctanh`](https://numpy.org/doc/stable/reference/generated/numpy.arctanh.html#numpy.arctanh)(x, /[, out, where, casting, order, …]) | Inverse hyperbolic tangent element-wise. |\n",
    "\n",
    "## Rounding\n",
    "\n",
    "| [`around`](https://numpy.org/doc/stable/reference/generated/numpy.around.html#numpy.around)(a[, decimals, out]) | Evenly round to the given number of decimals.          |\n",
    "| ------------------------------------------------------------ | ------------------------------------------------------ |\n",
    "| [`round_`](https://numpy.org/doc/stable/reference/generated/numpy.round_.html#numpy.round_)(a[, decimals, out]) | Round an array to the given number of decimals.        |\n",
    "| [`rint`](https://numpy.org/doc/stable/reference/generated/numpy.rint.html#numpy.rint)(x, /[, out, where, casting, order, …]) | Round elements of the array to the nearest integer.    |\n",
    "| [`fix`](https://numpy.org/doc/stable/reference/generated/numpy.fix.html#numpy.fix)(x[, out]) | Round to nearest integer towards zero.                 |\n",
    "| [`floor`](https://numpy.org/doc/stable/reference/generated/numpy.floor.html#numpy.floor)(x, /[, out, where, casting, order, …]) | Return the floor of the input, element-wise.           |\n",
    "| [`ceil`](https://numpy.org/doc/stable/reference/generated/numpy.ceil.html#numpy.ceil)(x, /[, out, where, casting, order, …]) | Return the ceiling of the input, element-wise.         |\n",
    "| [`trunc`](https://numpy.org/doc/stable/reference/generated/numpy.trunc.html#numpy.trunc)(x, /[, out, where, casting, order, …]) | Return the truncated value of the input, element-wise. |\n",
    "\n",
    "## Sums, products, differences\n",
    "\n",
    "| [`prod`](https://numpy.org/doc/stable/reference/generated/numpy.prod.html#numpy.prod)(a[, axis, dtype, out, keepdims, …]) | Return the product of array elements over a given axis.      |\n",
    "| ------------------------------------------------------------ | ------------------------------------------------------------ |\n",
    "| [`sum`](https://numpy.org/doc/stable/reference/generated/numpy.sum.html#numpy.sum)(a[, axis, dtype, out, keepdims, …]) | Sum of array elements over a given axis.                     |\n",
    "| [`nanprod`](https://numpy.org/doc/stable/reference/generated/numpy.nanprod.html#numpy.nanprod)(a[, axis, dtype, out, keepdims]) | Return the product of array elements over a given axis treating Not a Numbers (NaNs) as ones. |\n",
    "| [`nansum`](https://numpy.org/doc/stable/reference/generated/numpy.nansum.html#numpy.nansum)(a[, axis, dtype, out, keepdims]) | Return the sum of array elements over a given axis treating Not a Numbers (NaNs) as zero. |\n",
    "| [`cumprod`](https://numpy.org/doc/stable/reference/generated/numpy.cumprod.html#numpy.cumprod)(a[, axis, dtype, out]) | Return the cumulative product of elements along a given axis. |\n",
    "| [`cumsum`](https://numpy.org/doc/stable/reference/generated/numpy.cumsum.html#numpy.cumsum)(a[, axis, dtype, out]) | Return the cumulative sum of the elements along a given axis. |\n",
    "| [`nancumprod`](https://numpy.org/doc/stable/reference/generated/numpy.nancumprod.html#numpy.nancumprod)(a[, axis, dtype, out]) | Return the cumulative product of array elements over a given axis treating Not a Numbers (NaNs) as one. |\n",
    "| [`nancumsum`](https://numpy.org/doc/stable/reference/generated/numpy.nancumsum.html#numpy.nancumsum)(a[, axis, dtype, out]) | Return the cumulative sum of array elements over a given axis treating Not a Numbers (NaNs) as zero. |\n",
    "| [`diff`](https://numpy.org/doc/stable/reference/generated/numpy.diff.html#numpy.diff)(a[, n, axis, prepend, append]) | Calculate the n-th discrete difference along the given axis. |\n",
    "| [`ediff1d`](https://numpy.org/doc/stable/reference/generated/numpy.ediff1d.html#numpy.ediff1d)(ary[, to_end, to_begin]) | The differences between consecutive elements of an array.    |\n",
    "| [`gradient`](https://numpy.org/doc/stable/reference/generated/numpy.gradient.html#numpy.gradient)(f, *varargs[, axis, edge_order]) | Return the gradient of an N-dimensional array.               |\n",
    "| [`cross`](https://numpy.org/doc/stable/reference/generated/numpy.cross.html#numpy.cross)(a, b[, axisa, axisb, axisc, axis]) | Return the cross product of two (arrays of) vectors.         |\n",
    "| [`trapz`](https://numpy.org/doc/stable/reference/generated/numpy.trapz.html#numpy.trapz)(y[, x, dx, axis]) | Integrate along the given axis using the composite trapezoidal rule. |\n",
    "\n",
    "## Exponents and logarithms\n",
    "\n",
    "| [`exp`](https://numpy.org/doc/stable/reference/generated/numpy.exp.html#numpy.exp)(x, /[, out, where, casting, order, …]) | Calculate the exponential of all elements in the input array. |\n",
    "| ------------------------------------------------------------ | ------------------------------------------------------------ |\n",
    "| [`expm1`](https://numpy.org/doc/stable/reference/generated/numpy.expm1.html#numpy.expm1)(x, /[, out, where, casting, order, …]) | Calculate `exp(x) - 1` for all elements in the array.        |\n",
    "| [`exp2`](https://numpy.org/doc/stable/reference/generated/numpy.exp2.html#numpy.exp2)(x, /[, out, where, casting, order, …]) | Calculate *2**p* for all *p* in the input array.             |\n",
    "| [`log`](https://numpy.org/doc/stable/reference/generated/numpy.log.html#numpy.log)(x, /[, out, where, casting, order, …]) | Natural logarithm, element-wise.                             |\n",
    "| [`log10`](https://numpy.org/doc/stable/reference/generated/numpy.log10.html#numpy.log10)(x, /[, out, where, casting, order, …]) | Return the base 10 logarithm of the input array, element-wise. |\n",
    "| [`log2`](https://numpy.org/doc/stable/reference/generated/numpy.log2.html#numpy.log2)(x, /[, out, where, casting, order, …]) | Base-2 logarithm of *x*.                                     |\n",
    "| [`log1p`](https://numpy.org/doc/stable/reference/generated/numpy.log1p.html#numpy.log1p)(x, /[, out, where, casting, order, …]) | Return the natural logarithm of one plus the input array, element-wise. |\n",
    "| [`logaddexp`](https://numpy.org/doc/stable/reference/generated/numpy.logaddexp.html#numpy.logaddexp)(x1, x2, /[, out, where, casting, …]) | Logarithm of the sum of exponentiations of the inputs.       |\n",
    "| [`logaddexp2`](https://numpy.org/doc/stable/reference/generated/numpy.logaddexp2.html#numpy.logaddexp2)(x1, x2, /[, out, where, casting, …]) | Logarithm of the sum of exponentiations of the inputs in base-2. |\n",
    "\n",
    "## Other special functions\n",
    "\n",
    "| [`i0`](https://numpy.org/doc/stable/reference/generated/numpy.i0.html#numpy.i0)(x) | Modified Bessel function of the first kind, order 0. |\n",
    "| ------------------------------------------------------------ | ---------------------------------------------------- |\n",
    "| [`sinc`](https://numpy.org/doc/stable/reference/generated/numpy.sinc.html#numpy.sinc)(x) | Return the normalized sinc function.                 |\n",
    "\n",
    "## Floating point routines\n",
    "\n",
    "| [`signbit`](https://numpy.org/doc/stable/reference/generated/numpy.signbit.html#numpy.signbit)(x, /[, out, where, casting, order, …]) | Returns element-wise True where signbit is set (less than zero). |\n",
    "| ------------------------------------------------------------ | ------------------------------------------------------------ |\n",
    "| [`copysign`](https://numpy.org/doc/stable/reference/generated/numpy.copysign.html#numpy.copysign)(x1, x2, /[, out, where, casting, …]) | Change the sign of x1 to that of x2, element-wise.           |\n",
    "| [`frexp`](https://numpy.org/doc/stable/reference/generated/numpy.frexp.html#numpy.frexp)(x[, out1, out2], / [[, out, where, …]) | Decompose the elements of x into mantissa and twos exponent. |\n",
    "| [`ldexp`](https://numpy.org/doc/stable/reference/generated/numpy.ldexp.html#numpy.ldexp)(x1, x2, /[, out, where, casting, …]) | Returns x1 * 2**x2, element-wise.                            |\n",
    "| [`nextafter`](https://numpy.org/doc/stable/reference/generated/numpy.nextafter.html#numpy.nextafter)(x1, x2, /[, out, where, casting, …]) | Return the next floating-point value after x1 towards x2, element-wise. |\n",
    "| [`spacing`](https://numpy.org/doc/stable/reference/generated/numpy.spacing.html#numpy.spacing)(x, /[, out, where, casting, order, …]) | Return the distance between x and the nearest adjacent number. |\n",
    "\n",
    "## Rational routines\n",
    "\n",
    "| [`lcm`](https://numpy.org/doc/stable/reference/generated/numpy.lcm.html#numpy.lcm)(x1, x2, /[, out, where, casting, order, …]) | Returns the lowest common multiple of `|x1|` and `|x2|`  |\n",
    "| ------------------------------------------------------------ | -------------------------------------------------------- |\n",
    "| [`gcd`](https://numpy.org/doc/stable/reference/generated/numpy.gcd.html#numpy.gcd)(x1, x2, /[, out, where, casting, order, …]) | Returns the greatest common divisor of `|x1|` and `|x2|` |\n",
    "\n",
    "## Arithmetic operations\n",
    "\n",
    "| [`add`](https://numpy.org/doc/stable/reference/generated/numpy.add.html#numpy.add)(x1, x2, /[, out, where, casting, order, …]) | Add arguments element-wise.                                  |\n",
    "| ------------------------------------------------------------ | ------------------------------------------------------------ |\n",
    "| [`reciprocal`](https://numpy.org/doc/stable/reference/generated/numpy.reciprocal.html#numpy.reciprocal)(x, /[, out, where, casting, …]) | Return the reciprocal of the argument, element-wise.         |\n",
    "| [`positive`](https://numpy.org/doc/stable/reference/generated/numpy.positive.html#numpy.positive)(x, /[, out, where, casting, order, …]) | Numerical positive, element-wise.                            |\n",
    "| [`negative`](https://numpy.org/doc/stable/reference/generated/numpy.negative.html#numpy.negative)(x, /[, out, where, casting, order, …]) | Numerical negative, element-wise.                            |\n",
    "| [`multiply`](https://numpy.org/doc/stable/reference/generated/numpy.multiply.html#numpy.multiply)(x1, x2, /[, out, where, casting, …]) | Multiply arguments element-wise.                             |\n",
    "| [`divide`](https://numpy.org/doc/stable/reference/generated/numpy.divide.html#numpy.divide)(x1, x2, /[, out, where, casting, …]) | Returns a true division of the inputs, element-wise.         |\n",
    "| [`power`](https://numpy.org/doc/stable/reference/generated/numpy.power.html#numpy.power)(x1, x2, /[, out, where, casting, …]) | First array elements raised to powers from second array, element-wise. |\n",
    "| [`subtract`](https://numpy.org/doc/stable/reference/generated/numpy.subtract.html#numpy.subtract)(x1, x2, /[, out, where, casting, …]) | Subtract arguments, element-wise.                            |\n",
    "| [`true_divide`](https://numpy.org/doc/stable/reference/generated/numpy.true_divide.html#numpy.true_divide)(x1, x2, /[, out, where, …]) | Returns a true division of the inputs, element-wise.         |\n",
    "| [`floor_divide`](https://numpy.org/doc/stable/reference/generated/numpy.floor_divide.html#numpy.floor_divide)(x1, x2, /[, out, where, …]) | Return the largest integer smaller or equal to the division of the inputs. |\n",
    "| [`float_power`](https://numpy.org/doc/stable/reference/generated/numpy.float_power.html#numpy.float_power)(x1, x2, /[, out, where, …]) | First array elements raised to powers from second array, element-wise. |\n",
    "| [`fmod`](https://numpy.org/doc/stable/reference/generated/numpy.fmod.html#numpy.fmod)(x1, x2, /[, out, where, casting, …]) | Return the element-wise remainder of division.               |\n",
    "| [`mod`](https://numpy.org/doc/stable/reference/generated/numpy.mod.html#numpy.mod)(x1, x2, /[, out, where, casting, order, …]) | Return element-wise remainder of division.                   |\n",
    "| [`modf`](https://numpy.org/doc/stable/reference/generated/numpy.modf.html#numpy.modf)(x[, out1, out2], / [[, out, where, …]) | Return the fractional and integral parts of an array, element-wise. |\n",
    "| [`remainder`](https://numpy.org/doc/stable/reference/generated/numpy.remainder.html#numpy.remainder)(x1, x2, /[, out, where, casting, …]) | Return element-wise remainder of division.                   |\n",
    "| [`divmod`](https://numpy.org/doc/stable/reference/generated/numpy.divmod.html#numpy.divmod)(x1, x2[, out1, out2], / [[, out, …]) | Return element-wise quotient and remainder simultaneously.   |\n",
    "\n",
    "## Handling complex numbers\n",
    "\n",
    "| [`angle`](https://numpy.org/doc/stable/reference/generated/numpy.angle.html#numpy.angle)(z[, deg]) | Return the angle of the complex argument.          |\n",
    "| ------------------------------------------------------------ | -------------------------------------------------- |\n",
    "| [`real`](https://numpy.org/doc/stable/reference/generated/numpy.real.html#numpy.real)(val) | Return the real part of the complex argument.      |\n",
    "| [`imag`](https://numpy.org/doc/stable/reference/generated/numpy.imag.html#numpy.imag)(val) | Return the imaginary part of the complex argument. |\n",
    "| [`conj`](https://numpy.org/doc/stable/reference/generated/numpy.conj.html#numpy.conj)(x, /[, out, where, casting, order, …]) | Return the complex conjugate, element-wise.        |\n",
    "| [`conjugate`](https://numpy.org/doc/stable/reference/generated/numpy.conjugate.html#numpy.conjugate)(x, /[, out, where, casting, …]) | Return the complex conjugate, element-wise.        |\n",
    "\n",
    "## Miscellaneous\n",
    "\n",
    "| [`convolve`](https://numpy.org/doc/stable/reference/generated/numpy.convolve.html#numpy.convolve)(a, v[, mode]) | Returns the discrete, linear convolution of two one-dimensional sequences. |\n",
    "| ------------------------------------------------------------ | ------------------------------------------------------------ |\n",
    "| [`clip`](https://numpy.org/doc/stable/reference/generated/numpy.clip.html#numpy.clip)(a, a_min, a_max[, out]) | Clip (limit) the values in an array.                         |\n",
    "| [`sqrt`](https://numpy.org/doc/stable/reference/generated/numpy.sqrt.html#numpy.sqrt)(x, /[, out, where, casting, order, …]) | Return the non-negative square-root of an array, element-wise. |\n",
    "| [`cbrt`](https://numpy.org/doc/stable/reference/generated/numpy.cbrt.html#numpy.cbrt)(x, /[, out, where, casting, order, …]) | Return the cube-root of an array, element-wise.              |\n",
    "| [`square`](https://numpy.org/doc/stable/reference/generated/numpy.square.html#numpy.square)(x, /[, out, where, casting, order, …]) | Return the element-wise square of the input.                 |\n",
    "| [`absolute`](https://numpy.org/doc/stable/reference/generated/numpy.absolute.html#numpy.absolute)(x, /[, out, where, casting, order, …]) | Calculate the absolute value element-wise.                   |\n",
    "| [`fabs`](https://numpy.org/doc/stable/reference/generated/numpy.fabs.html#numpy.fabs)(x, /[, out, where, casting, order, …]) | Compute the absolute values element-wise.                    |\n",
    "| [`sign`](https://numpy.org/doc/stable/reference/generated/numpy.sign.html#numpy.sign)(x, /[, out, where, casting, order, …]) | Returns an element-wise indication of the sign of a number.  |\n",
    "| [`heaviside`](https://numpy.org/doc/stable/reference/generated/numpy.heaviside.html#numpy.heaviside)(x1, x2, /[, out, where, casting, …]) | Compute the Heaviside step function.                         |\n",
    "| [`maximum`](https://numpy.org/doc/stable/reference/generated/numpy.maximum.html#numpy.maximum)(x1, x2, /[, out, where, casting, …]) | Element-wise maximum of array elements.                      |\n",
    "| [`minimum`](https://numpy.org/doc/stable/reference/generated/numpy.minimum.html#numpy.minimum)(x1, x2, /[, out, where, casting, …]) | Element-wise minimum of array elements.                      |\n",
    "| [`fmax`](https://numpy.org/doc/stable/reference/generated/numpy.fmax.html#numpy.fmax)(x1, x2, /[, out, where, casting, …]) | Element-wise maximum of array elements.                      |\n",
    "| [`fmin`](https://numpy.org/doc/stable/reference/generated/numpy.fmin.html#numpy.fmin)(x1, x2, /[, out, where, casting, …]) | Element-wise minimum of array elements.                      |\n",
    "| [`nan_to_num`](https://numpy.org/doc/stable/reference/generated/numpy.nan_to_num.html#numpy.nan_to_num)(x[, copy, nan, posinf, neginf]) | Replace NaN with zero and infinity with large finite numbers (default behaviour) or with the numbers defined by the user using the [`nan`](https://numpy.org/doc/stable/reference/constants.html#numpy.nan), *posinf* and/or *neginf* keywords. |\n",
    "| [`real_if_close`](https://numpy.org/doc/stable/reference/generated/numpy.real_if_close.html#numpy.real_if_close)(a[, tol]) | If input is complex with all imaginary parts close to zero, return real parts. |\n",
    "| [`interp`](https://numpy.org/doc/stable/reference/generated/numpy.interp.html#numpy.interp)(x, xp, fp[, left, right, period]) | One-dimensional linear interpolation.                        |"
   ]
  },
  {
   "cell_type": "markdown",
   "id": "standard-transcript",
   "metadata": {},
   "source": [
    "## Examples"
   ]
  },
  {
   "cell_type": "code",
   "execution_count": 55,
   "id": "comprehensive-banner",
   "metadata": {},
   "outputs": [
    {
     "data": {
      "text/plain": [
       "array([1, 2, 3, 4])"
      ]
     },
     "execution_count": 55,
     "metadata": {},
     "output_type": "execute_result"
    }
   ],
   "source": [
    "m = np.array([1,2,3,4])\n",
    "m"
   ]
  },
  {
   "cell_type": "code",
   "execution_count": 56,
   "id": "different-correction",
   "metadata": {},
   "outputs": [
    {
     "data": {
      "text/plain": [
       "array([3, 4, 5, 6])"
      ]
     },
     "execution_count": 56,
     "metadata": {},
     "output_type": "execute_result"
    }
   ],
   "source": [
    "m + 2"
   ]
  },
  {
   "cell_type": "code",
   "execution_count": 57,
   "id": "generous-lewis",
   "metadata": {},
   "outputs": [
    {
     "data": {
      "text/plain": [
       "array([-1,  0,  1,  2])"
      ]
     },
     "execution_count": 57,
     "metadata": {},
     "output_type": "execute_result"
    }
   ],
   "source": [
    "m - 2"
   ]
  },
  {
   "cell_type": "code",
   "execution_count": 58,
   "id": "strategic-young",
   "metadata": {},
   "outputs": [
    {
     "data": {
      "text/plain": [
       "array([2, 4, 6, 8])"
      ]
     },
     "execution_count": 58,
     "metadata": {},
     "output_type": "execute_result"
    }
   ],
   "source": [
    "m * 2"
   ]
  },
  {
   "cell_type": "code",
   "execution_count": 59,
   "id": "promising-tobacco",
   "metadata": {},
   "outputs": [
    {
     "data": {
      "text/plain": [
       "array([0.5, 1. , 1.5, 2. ])"
      ]
     },
     "execution_count": 59,
     "metadata": {},
     "output_type": "execute_result"
    }
   ],
   "source": [
    "m / 2"
   ]
  },
  {
   "cell_type": "code",
   "execution_count": 60,
   "id": "severe-spider",
   "metadata": {},
   "outputs": [
    {
     "data": {
      "text/plain": [
       "array([5, 6, 7, 8])"
      ]
     },
     "execution_count": 60,
     "metadata": {},
     "output_type": "execute_result"
    }
   ],
   "source": [
    "n = np.array([5,6,7,8])\n",
    "n"
   ]
  },
  {
   "cell_type": "code",
   "execution_count": 61,
   "id": "iraqi-minimum",
   "metadata": {},
   "outputs": [
    {
     "data": {
      "text/plain": [
       "array([ 6,  8, 10, 12])"
      ]
     },
     "execution_count": 61,
     "metadata": {},
     "output_type": "execute_result"
    }
   ],
   "source": [
    "m + n"
   ]
  },
  {
   "cell_type": "code",
   "execution_count": 62,
   "id": "sought-removal",
   "metadata": {},
   "outputs": [
    {
     "data": {
      "text/plain": [
       "array([  1,   4,  27, 256])"
      ]
     },
     "execution_count": 62,
     "metadata": {},
     "output_type": "execute_result"
    }
   ],
   "source": [
    "m ** m"
   ]
  },
  {
   "cell_type": "code",
   "execution_count": 68,
   "id": "analyzed-shannon",
   "metadata": {},
   "outputs": [
    {
     "data": {
      "text/plain": [
       "1.6197751905438615"
      ]
     },
     "execution_count": 68,
     "metadata": {},
     "output_type": "execute_result"
    }
   ],
   "source": [
    "np.tan(45)"
   ]
  },
  {
   "cell_type": "markdown",
   "id": "recorded-publication",
   "metadata": {},
   "source": [
    "# Matrix library ([`numpy.matlib`](https://numpy.org/doc/stable/reference/routines.matlib.html#module-numpy.matlib))\n",
    "\n",
    "This module contains all functions in the [`numpy`](https://numpy.org/doc/stable/reference/index.html#module-numpy) namespace, with the following replacement functions that return [`matrices`](https://numpy.org/doc/stable/reference/generated/numpy.matrix.html#numpy.matrix) instead of [`ndarrays`](https://numpy.org/doc/stable/reference/generated/numpy.ndarray.html#numpy.ndarray).\n",
    "\n",
    "Functions that are also in the numpy namespace and return matrices\n",
    "\n",
    "| [`mat`](https://numpy.org/doc/stable/reference/generated/numpy.mat.html#numpy.mat)(data[, dtype]) | Interpret the input as a matrix.                             |\n",
    "| ------------------------------------------------------------ | ------------------------------------------------------------ |\n",
    "| [`matrix`](https://numpy.org/doc/stable/reference/generated/numpy.matrix.html#numpy.matrix)(data[, dtype, copy]) | NoteIt is no longer recommended to use this class, even for linear |\n",
    "| [`asmatrix`](https://numpy.org/doc/stable/reference/generated/numpy.asmatrix.html#numpy.asmatrix)(data[, dtype]) | Interpret the input as a matrix.                             |\n",
    "| [`bmat`](https://numpy.org/doc/stable/reference/generated/numpy.bmat.html#numpy.bmat)(obj[, ldict, gdict]) | Build a matrix object from a string, nested sequence, or array. |\n",
    "\n",
    "Replacement functions in [`matlib`](https://numpy.org/doc/stable/reference/routines.matlib.html#module-numpy.matlib)\n",
    "\n",
    "| [`empty`](https://numpy.org/doc/stable/reference/generated/numpy.matlib.empty.html#numpy.matlib.empty)(shape[, dtype, order]) | Return a new matrix of given shape and type, without initializing entries. |\n",
    "| ------------------------------------------------------------ | ------------------------------------------------------------ |\n",
    "| [`zeros`](https://numpy.org/doc/stable/reference/generated/numpy.matlib.zeros.html#numpy.matlib.zeros)(shape[, dtype, order]) | Return a matrix of given shape and type, filled with zeros.  |\n",
    "| [`ones`](https://numpy.org/doc/stable/reference/generated/numpy.matlib.ones.html#numpy.matlib.ones)(shape[, dtype, order]) | Matrix of ones.                                              |\n",
    "| [`eye`](https://numpy.org/doc/stable/reference/generated/numpy.matlib.eye.html#numpy.matlib.eye)(n[, M, k, dtype, order]) | Return a matrix with ones on the diagonal and zeros elsewhere. |\n",
    "| [`identity`](https://numpy.org/doc/stable/reference/generated/numpy.matlib.identity.html#numpy.matlib.identity)(n[, dtype]) | Returns the square identity matrix of given size.            |\n",
    "| [`repmat`](https://numpy.org/doc/stable/reference/generated/numpy.matlib.repmat.html#numpy.matlib.repmat)(a, m, n) | Repeat a 0-D to 2-D array or matrix MxN times.               |\n",
    "| [`rand`](https://numpy.org/doc/stable/reference/generated/numpy.matlib.rand.html#numpy.matlib.rand)(*args) | Return a matrix of random values with given shape.           |\n",
    "| [`randn`](https://numpy.org/doc/stable/reference/generated/numpy.matlib.randn.html#numpy.matlib.randn)(*args) | Return a random matrix with data from the “standard normal” distribution. |"
   ]
  },
  {
   "cell_type": "markdown",
   "id": "floppy-captain",
   "metadata": {},
   "source": [
    "# Statistics\n",
    "\n",
    "## Order statistics\n",
    "\n",
    "| [`amin`](https://numpy.org/doc/stable/reference/generated/numpy.amin.html#numpy.amin)(a[, axis, out, keepdims, initial, where]) | Return the minimum of an array or minimum along an axis.     |\n",
    "| ------------------------------------------------------------ | ------------------------------------------------------------ |\n",
    "| [`amax`](https://numpy.org/doc/stable/reference/generated/numpy.amax.html#numpy.amax)(a[, axis, out, keepdims, initial, where]) | Return the maximum of an array or maximum along an axis.     |\n",
    "| [`nanmin`](https://numpy.org/doc/stable/reference/generated/numpy.nanmin.html#numpy.nanmin)(a[, axis, out, keepdims]) | Return minimum of an array or minimum along an axis, ignoring any NaNs. |\n",
    "| [`nanmax`](https://numpy.org/doc/stable/reference/generated/numpy.nanmax.html#numpy.nanmax)(a[, axis, out, keepdims]) | Return the maximum of an array or maximum along an axis, ignoring any NaNs. |\n",
    "| [`ptp`](https://numpy.org/doc/stable/reference/generated/numpy.ptp.html#numpy.ptp)(a[, axis, out, keepdims]) | Range of values (maximum - minimum) along an axis.           |\n",
    "| [`percentile`](https://numpy.org/doc/stable/reference/generated/numpy.percentile.html#numpy.percentile)(a, q[, axis, out, …]) | Compute the q-th percentile of the data along the specified axis. |\n",
    "| [`nanpercentile`](https://numpy.org/doc/stable/reference/generated/numpy.nanpercentile.html#numpy.nanpercentile)(a, q[, axis, out, …]) | Compute the qth percentile of the data along the specified axis, while ignoring nan values. |\n",
    "| [`quantile`](https://numpy.org/doc/stable/reference/generated/numpy.quantile.html#numpy.quantile)(a, q[, axis, out, overwrite_input, …]) | Compute the q-th quantile of the data along the specified axis. |\n",
    "| [`nanquantile`](https://numpy.org/doc/stable/reference/generated/numpy.nanquantile.html#numpy.nanquantile)(a, q[, axis, out, …]) | Compute the qth quantile of the data along the specified axis, while ignoring nan values. |\n",
    "\n",
    "## Averages and variances\n",
    "\n",
    "| [`median`](https://numpy.org/doc/stable/reference/generated/numpy.median.html#numpy.median)(a[, axis, out, overwrite_input, keepdims]) | Compute the median along the specified axis.                 |\n",
    "| ------------------------------------------------------------ | ------------------------------------------------------------ |\n",
    "| [`average`](https://numpy.org/doc/stable/reference/generated/numpy.average.html#numpy.average)(a[, axis, weights, returned]) | Compute the weighted average along the specified axis.       |\n",
    "| [`mean`](https://numpy.org/doc/stable/reference/generated/numpy.mean.html#numpy.mean)(a[, axis, dtype, out, keepdims, where]) | Compute the arithmetic mean along the specified axis.        |\n",
    "| [`std`](https://numpy.org/doc/stable/reference/generated/numpy.std.html#numpy.std)(a[, axis, dtype, out, ddof, keepdims, where]) | Compute the standard deviation along the specified axis.     |\n",
    "| [`var`](https://numpy.org/doc/stable/reference/generated/numpy.var.html#numpy.var)(a[, axis, dtype, out, ddof, keepdims, where]) | Compute the variance along the specified axis.               |\n",
    "| [`nanmedian`](https://numpy.org/doc/stable/reference/generated/numpy.nanmedian.html#numpy.nanmedian)(a[, axis, out, overwrite_input, …]) | Compute the median along the specified axis, while ignoring NaNs. |\n",
    "| [`nanmean`](https://numpy.org/doc/stable/reference/generated/numpy.nanmean.html#numpy.nanmean)(a[, axis, dtype, out, keepdims]) | Compute the arithmetic mean along the specified axis, ignoring NaNs. |\n",
    "| [`nanstd`](https://numpy.org/doc/stable/reference/generated/numpy.nanstd.html#numpy.nanstd)(a[, axis, dtype, out, ddof, keepdims]) | Compute the standard deviation along the specified axis, while ignoring NaNs. |\n",
    "| [`nanvar`](https://numpy.org/doc/stable/reference/generated/numpy.nanvar.html#numpy.nanvar)(a[, axis, dtype, out, ddof, keepdims]) | Compute the variance along the specified axis, while ignoring NaNs. |\n",
    "\n",
    "## Correlating\n",
    "\n",
    "| [`corrcoef`](https://numpy.org/doc/stable/reference/generated/numpy.corrcoef.html#numpy.corrcoef)(x[, y, rowvar, bias, ddof, dtype]) | Return Pearson product-moment correlation coefficients. |\n",
    "| ------------------------------------------------------------ | ------------------------------------------------------- |\n",
    "| [`correlate`](https://numpy.org/doc/stable/reference/generated/numpy.correlate.html#numpy.correlate)(a, v[, mode]) | Cross-correlation of two 1-dimensional sequences.       |\n",
    "| [`cov`](https://numpy.org/doc/stable/reference/generated/numpy.cov.html#numpy.cov)(m[, y, rowvar, bias, ddof, fweights, …]) | Estimate a covariance matrix, given data and weights.   |\n",
    "\n",
    "## Histograms\n",
    "\n",
    "| [`histogram`](https://numpy.org/doc/stable/reference/generated/numpy.histogram.html#numpy.histogram)(a[, bins, range, normed, weights, …]) | Compute the histogram of a set of data.                      |\n",
    "| ------------------------------------------------------------ | ------------------------------------------------------------ |\n",
    "| [`histogram2d`](https://numpy.org/doc/stable/reference/generated/numpy.histogram2d.html#numpy.histogram2d)(x, y[, bins, range, normed, …]) | Compute the bi-dimensional histogram of two data samples.    |\n",
    "| [`histogramdd`](https://numpy.org/doc/stable/reference/generated/numpy.histogramdd.html#numpy.histogramdd)(sample[, bins, range, normed, …]) | Compute the multidimensional histogram of some data.         |\n",
    "| [`bincount`](https://numpy.org/doc/stable/reference/generated/numpy.bincount.html#numpy.bincount)(x[, weights, minlength]) | Count number of occurrences of each value in array of non-negative ints. |\n",
    "| [`histogram_bin_edges`](https://numpy.org/doc/stable/reference/generated/numpy.histogram_bin_edges.html#numpy.histogram_bin_edges)(a[, bins, range, weights]) | Function to calculate only the edges of the bins used by the [`histogram`](https://numpy.org/doc/stable/reference/generated/numpy.histogram.html#numpy.histogram) function. |\n",
    "| [`digitize`](https://numpy.org/doc/stable/reference/generated/numpy.digitize.html#numpy.digitize)(x, bins[, right]) | Return the indices of the bins to which each value in input array belongs. |"
   ]
  },
  {
   "cell_type": "code",
   "execution_count": null,
   "id": "rural-tomorrow",
   "metadata": {},
   "outputs": [],
   "source": []
  }
 ],
 "metadata": {
  "kernelspec": {
   "display_name": "Python 3",
   "language": "python",
   "name": "python3"
  },
  "language_info": {
   "codemirror_mode": {
    "name": "ipython",
    "version": 3
   },
   "file_extension": ".py",
   "mimetype": "text/x-python",
   "name": "python",
   "nbconvert_exporter": "python",
   "pygments_lexer": "ipython3",
   "version": "3.8.5"
  }
 },
 "nbformat": 4,
 "nbformat_minor": 5
}
